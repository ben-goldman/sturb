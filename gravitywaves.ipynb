{
 "cells": [
  {
   "cell_type": "code",
   "execution_count": 1,
   "id": "f285cd45-e8e9-4814-8147-332debccba87",
   "metadata": {
    "collapsed": false
   },
   "outputs": [
    {
     "name": "stderr",
     "output_type": "stream",
     "text": [
      "hwloc/linux: Ignoring PCI device with non-16bit domain.\n",
      "Pass --enable-32bits-pci-domain to configure to support such devices\n",
      "(warning: it would break the library ABI, don't enable unless really needed).\n"
     ]
    }
   ],
   "source": [
    "import numpy as np\n",
    "import matplotlib.pyplot as plt\n",
    "import dedalus.public as d3\n",
    "import logging\n",
    "logger = logging.getLogger(__name__)"
   ]
  },
  {
   "cell_type": "code",
   "execution_count": 14,
   "id": "7f52ab77-664f-4348-a26e-b25e75a3224e",
   "metadata": {
    "collapsed": false
   },
   "outputs": [],
   "source": [
    "Lx, Lz = 1, 2\n",
    "Nx, Nz = 128, 256\n",
    "Reynolds = 5e4\n",
    "Schmidt = 1\n",
    "modes = 4\n",
    "stop_sim_time = 10\n",
    "timestepper = d3.RK222\n",
    "max_timestep = 5e-2\n",
    "dtype = np.float64"
   ]
  },
  {
   "cell_type": "code",
   "execution_count": 17,
   "id": "75a8740b-3120-498d-be66-3532bdfd74df",
   "metadata": {
    "collapsed": false
   },
   "outputs": [],
   "source": [
    "coords = d3.CartesianCoordinates('x', 'z')\n",
    "dist = d3.Distributor(coords, dtype=dtype)\n",
    "xbasis = d3.RealFourier(coords['x'], size=Nx, bounds=(0, Lx))\n",
    "zbasis = d3.RealFourier(coords['z'], size=Nz, bounds=(-Lz/2, Lz/2))\n",
    "\n",
    "# Fields\n",
    "p = dist.Field(name='p', bases=(xbasis,zbasis))\n",
    "s = dist.Field(name='s', bases=(xbasis,zbasis))\n",
    "u = dist.VectorField(coords, name='u', bases=(xbasis,zbasis))\n",
    "tau_p = dist.Field(name='tau_p')\n"
   ]
  },
  {
   "cell_type": "code",
   "execution_count": 20,
   "id": "dd2332a0-4e45-4bb7-8e9a-f16f6ac4474d",
   "metadata": {
    "collapsed": false
   },
   "outputs": [
    {
     "data": {
      "text/plain": [
       "{'LHS': Integrate(Integrate(<Field 139674192980624>)),\n",
       " 'RHS': 0,\n",
       " 'condition': 'True',\n",
       " 'tensorsig': (),\n",
       " 'dtype': numpy.float64,\n",
       " 'M': 0,\n",
       " 'L': Integrate(Integrate(<Field 139674192980624>)),\n",
       " 'F': <Field 139674419371280>,\n",
       " 'domain': <dedalus.core.domain.Domain at 0x7f086eb2c890>,\n",
       " 'matrix_dependence': array([ True,  True]),\n",
       " 'matrix_coupling': array([False, False])}"
      ]
     },
     "execution_count": 20,
     "metadata": {},
     "output_type": "execute_result"
    }
   ],
   "source": [
    "# Substitutions\n",
    "nu = 1 / Reynolds\n",
    "D = nu / Schmidt\n",
    "x, z = dist.local_grids(xbasis, zbasis)\n",
    "ex, ez = coords.unit_vector_fields(dist)\n",
    "\n",
    "# Problem\n",
    "problem = d3.IVP([u, s, p, tau_p], namespace=locals())\n",
    "problem.add_equation(\"dt(u) + grad(p) - nu*lap(u) = - u@grad(u)\")\n",
    "problem.add_equation(\"dt(s) - D*lap(s) = - u@grad(s)\")\n",
    "problem.add_equation(\"div(u) + tau_p = 0\")\n",
    "problem.add_equation(\"integ(p) = 0\") # Pressure gauge\n"
   ]
  },
  {
   "cell_type": "code",
   "execution_count": 22,
   "id": "6a92fad9-b597-4970-be83-c3c69e60577b",
   "metadata": {
    "collapsed": false
   },
   "outputs": [
    {
     "name": "stdout",
     "output_type": "stream",
     "text": [
      "2023-05-23 22:32:07,064 subsystems 0/1 INFO :: Building subproblem matrices 1/64 (~2%) Elapsed: 0s, Remaining: 3s, Rate: 2.4e+01/s\n",
      "2023-05-23 22:32:07,225 subsystems 0/1 INFO :: Building subproblem matrices 7/64 (~11%) Elapsed: 0s, Remaining: 2s, Rate: 3.4e+01/s\n",
      "2023-05-23 22:32:07,381 subsystems 0/1 INFO :: Building subproblem matrices 14/64 (~22%) Elapsed: 0s, Remaining: 1s, Rate: 3.9e+01/s\n",
      "2023-05-23 22:32:07,551 subsystems 0/1 INFO :: Building subproblem matrices 21/64 (~33%) Elapsed: 1s, Remaining: 1s, Rate: 4.0e+01/s\n",
      "2023-05-23 22:32:07,764 subsystems 0/1 INFO :: Building subproblem matrices 28/64 (~44%) Elapsed: 1s, Remaining: 1s, Rate: 3.8e+01/s\n",
      "2023-05-23 22:32:08,006 subsystems 0/1 INFO :: Building subproblem matrices 35/64 (~55%) Elapsed: 1s, Remaining: 1s, Rate: 3.6e+01/s\n",
      "2023-05-23 22:32:08,183 subsystems 0/1 INFO :: Building subproblem matrices 42/64 (~66%) Elapsed: 1s, Remaining: 1s, Rate: 3.6e+01/s\n",
      "2023-05-23 22:32:08,346 subsystems 0/1 INFO :: Building subproblem matrices 49/64 (~77%) Elapsed: 1s, Remaining: 0s, Rate: 3.7e+01/s\n",
      "2023-05-23 22:32:08,547 subsystems 0/1 INFO :: Building subproblem matrices 56/64 (~88%) Elapsed: 2s, Remaining: 0s, Rate: 3.7e+01/s\n",
      "2023-05-23 22:32:08,794 subsystems 0/1 INFO :: Building subproblem matrices 63/64 (~98%) Elapsed: 2s, Remaining: 0s, Rate: 3.6e+01/s\n",
      "2023-05-23 22:32:08,836 subsystems 0/1 INFO :: Building subproblem matrices 64/64 (~100%) Elapsed: 2s, Remaining: 0s, Rate: 3.5e+01/s\n"
     ]
    }
   ],
   "source": [
    "# Solver\n",
    "solver = problem.build_solver(timestepper)\n",
    "solver.stop_sim_time = stop_sim_time\n",
    "\n",
    "# Initial conditions\n",
    "# Background shear\n",
    "u['g'][0] = 1/2 + 1/2 * (np.tanh((z-0.5)/0.1) - np.tanh((z+0.5)/0.1))\n",
    "# Match tracer to shear\n",
    "s['g'] = u['g'][0]\n",
    "# Add small vertical velocity perturbations localized to the shear layers\n",
    "u['g'][1] += 0.1 * np.sin(2*np.pi*x/Lx) * np.exp(-(z-0.5)**2/0.01)\n",
    "u['g'][1] += 0.1 * np.sin(2*np.pi*x/Lx) * np.exp(-(z+0.5)**2/0.01)\n",
    "\n",
    "# Analysis\n",
    "snapshots = solver.evaluator.add_file_handler('snapshots', sim_dt=0.1, max_writes=10)\n",
    "snapshots.add_task(s, name='tracer')\n",
    "snapshots.add_task(p, name='pressure')\n",
    "snapshots.add_task(-d3.div(d3.skew(u)), name='vorticity')\n",
    "\n",
    "# CFL\n",
    "CFL = d3.CFL(solver, initial_dt=max_timestep, cadence=10, safety=0.2, threshold=0.1,\n",
    "             max_change=1.5, min_change=0.5, max_dt=max_timestep)\n",
    "CFL.add_velocity(u)\n",
    "\n",
    "# Flow properties\n",
    "flow = d3.GlobalFlowProperty(solver, cadence=10)\n",
    "flow.add_property((u@ez)**2, name='w2')"
   ]
  },
  {
   "cell_type": "code",
   "execution_count": 23,
   "id": "365e1c1c-d25c-4ce2-a03d-9b4342c98d32",
   "metadata": {
    "collapsed": false
   },
   "outputs": [
    {
     "name": "stdout",
     "output_type": "stream",
     "text": [
      "2023-05-23 22:32:21,548 __main__ 0/1 INFO :: Starting main loop\n",
      "2023-05-23 22:32:21,881 __main__ 0/1 INFO :: Iteration=1, Time=5.000000e-02, dt=5.000000e-02, max(w)=0.100000\n",
      "2023-05-23 22:32:22,234 __main__ 0/1 INFO :: Iteration=11, Time=5.500000e-01, dt=5.000000e-02, max(w)=0.043030\n",
      "2023-05-23 22:32:22,738 __main__ 0/1 INFO :: Iteration=21, Time=8.000000e-01, dt=2.500000e-02, max(w)=nan\n",
      "2023-05-23 22:32:23,171 __main__ 0/1 INFO :: Iteration=31, Time=1.050000e+00, dt=2.500000e-02, max(w)=nan\n",
      "2023-05-23 22:32:23,603 __main__ 0/1 INFO :: Iteration=41, Time=1.300000e+00, dt=2.500000e-02, max(w)=nan\n",
      "2023-05-23 22:32:23,975 __main__ 0/1 INFO :: Iteration=51, Time=1.550000e+00, dt=2.500000e-02, max(w)=nan\n",
      "2023-05-23 22:32:24,324 __main__ 0/1 INFO :: Iteration=61, Time=1.800000e+00, dt=2.500000e-02, max(w)=nan\n",
      "2023-05-23 22:32:24,684 __main__ 0/1 INFO :: Iteration=71, Time=2.050000e+00, dt=2.500000e-02, max(w)=nan\n",
      "2023-05-23 22:32:25,027 __main__ 0/1 INFO :: Iteration=81, Time=2.300000e+00, dt=2.500000e-02, max(w)=nan\n",
      "2023-05-23 22:32:25,388 __main__ 0/1 INFO :: Iteration=91, Time=2.550000e+00, dt=2.500000e-02, max(w)=nan\n",
      "2023-05-23 22:32:25,730 __main__ 0/1 INFO :: Iteration=101, Time=2.800000e+00, dt=2.500000e-02, max(w)=nan\n",
      "2023-05-23 22:32:26,093 __main__ 0/1 INFO :: Iteration=111, Time=3.050000e+00, dt=2.500000e-02, max(w)=nan\n",
      "2023-05-23 22:32:26,424 __main__ 0/1 INFO :: Iteration=121, Time=3.300000e+00, dt=2.500000e-02, max(w)=nan\n",
      "2023-05-23 22:32:26,767 __main__ 0/1 INFO :: Iteration=131, Time=3.550000e+00, dt=2.500000e-02, max(w)=nan\n",
      "2023-05-23 22:32:27,117 __main__ 0/1 INFO :: Iteration=141, Time=3.800000e+00, dt=2.500000e-02, max(w)=nan\n",
      "2023-05-23 22:32:27,563 __main__ 0/1 INFO :: Iteration=151, Time=4.050000e+00, dt=2.500000e-02, max(w)=nan\n",
      "2023-05-23 22:32:27,934 __main__ 0/1 INFO :: Iteration=161, Time=4.300000e+00, dt=2.500000e-02, max(w)=nan\n",
      "2023-05-23 22:32:28,297 __main__ 0/1 INFO :: Iteration=171, Time=4.550000e+00, dt=2.500000e-02, max(w)=nan\n",
      "2023-05-23 22:32:28,678 __main__ 0/1 INFO :: Iteration=181, Time=4.800000e+00, dt=2.500000e-02, max(w)=nan\n",
      "2023-05-23 22:32:29,141 __main__ 0/1 INFO :: Iteration=191, Time=5.050000e+00, dt=2.500000e-02, max(w)=nan\n",
      "2023-05-23 22:32:29,516 __main__ 0/1 INFO :: Iteration=201, Time=5.300000e+00, dt=2.500000e-02, max(w)=nan\n",
      "2023-05-23 22:32:29,903 __main__ 0/1 INFO :: Iteration=211, Time=5.550000e+00, dt=2.500000e-02, max(w)=nan\n",
      "2023-05-23 22:32:30,262 __main__ 0/1 INFO :: Iteration=221, Time=5.800000e+00, dt=2.500000e-02, max(w)=nan\n",
      "2023-05-23 22:32:30,686 __main__ 0/1 INFO :: Iteration=231, Time=6.050000e+00, dt=2.500000e-02, max(w)=nan\n",
      "2023-05-23 22:32:31,085 __main__ 0/1 INFO :: Iteration=241, Time=6.300000e+00, dt=2.500000e-02, max(w)=nan\n",
      "2023-05-23 22:32:31,464 __main__ 0/1 INFO :: Iteration=251, Time=6.550000e+00, dt=2.500000e-02, max(w)=nan\n",
      "2023-05-23 22:32:31,829 __main__ 0/1 INFO :: Iteration=261, Time=6.800000e+00, dt=2.500000e-02, max(w)=nan\n",
      "2023-05-23 22:32:32,232 __main__ 0/1 INFO :: Iteration=271, Time=7.050000e+00, dt=2.500000e-02, max(w)=nan\n",
      "2023-05-23 22:32:32,619 __main__ 0/1 INFO :: Iteration=281, Time=7.300000e+00, dt=2.500000e-02, max(w)=nan\n",
      "2023-05-23 22:32:33,047 __main__ 0/1 INFO :: Iteration=291, Time=7.550000e+00, dt=2.500000e-02, max(w)=nan\n",
      "2023-05-23 22:32:33,469 __main__ 0/1 INFO :: Iteration=301, Time=7.800000e+00, dt=2.500000e-02, max(w)=nan\n",
      "2023-05-23 22:32:33,855 __main__ 0/1 INFO :: Iteration=311, Time=8.050000e+00, dt=2.500000e-02, max(w)=nan\n",
      "2023-05-23 22:32:34,204 __main__ 0/1 INFO :: Iteration=321, Time=8.300000e+00, dt=2.500000e-02, max(w)=nan\n",
      "2023-05-23 22:32:34,570 __main__ 0/1 INFO :: Iteration=331, Time=8.550000e+00, dt=2.500000e-02, max(w)=nan\n",
      "2023-05-23 22:32:34,950 __main__ 0/1 INFO :: Iteration=341, Time=8.800000e+00, dt=2.500000e-02, max(w)=nan\n",
      "2023-05-23 22:32:35,416 __main__ 0/1 INFO :: Iteration=351, Time=9.050000e+00, dt=2.500000e-02, max(w)=nan\n",
      "2023-05-23 22:32:35,831 __main__ 0/1 INFO :: Iteration=361, Time=9.300000e+00, dt=2.500000e-02, max(w)=nan\n",
      "2023-05-23 22:32:36,233 __main__ 0/1 INFO :: Iteration=371, Time=9.550000e+00, dt=2.500000e-02, max(w)=nan\n",
      "2023-05-23 22:32:36,592 __main__ 0/1 INFO :: Iteration=381, Time=9.800000e+00, dt=2.500000e-02, max(w)=nan\n",
      "2023-05-23 22:32:36,875 solvers 0/1 INFO :: Simulation stop time reached.\n",
      "2023-05-23 22:32:36,876 solvers 0/1 INFO :: Final iteration: 389\n",
      "2023-05-23 22:32:36,876 solvers 0/1 INFO :: Final sim time: 10.000000000000075\n",
      "2023-05-23 22:32:36,877 solvers 0/1 INFO :: Setup time (init - iter 0): 14.53 sec\n",
      "2023-05-23 22:32:36,878 solvers 0/1 INFO :: Warmup time (iter 0-10): 0.6331 sec\n",
      "2023-05-23 22:32:36,878 solvers 0/1 INFO :: Run time (iter 10-end): 14.69 sec\n",
      "2023-05-23 22:32:36,879 solvers 0/1 INFO :: CPU time (iter 10-end): 0.00408 cpu-hr\n",
      "2023-05-23 22:32:36,879 solvers 0/1 INFO :: Speed: 6.686e+06 mode-stages/cpu-sec\n"
     ]
    }
   ],
   "source": [
    "# Main loop\n",
    "try:\n",
    "    logger.info('Starting main loop')\n",
    "    while solver.proceed:\n",
    "        timestep = CFL.compute_timestep()\n",
    "        solver.step(timestep)\n",
    "        if (solver.iteration-1) % 10 == 0:\n",
    "            max_w = np.sqrt(flow.max('w2'))\n",
    "            logger.info('Iteration=%i, Time=%e, dt=%e, max(w)=%f' %(solver.iteration, solver.sim_time, timestep, max_w))\n",
    "except:\n",
    "    logger.error('Exception raised, triggering end of main loop.')\n",
    "    raise\n",
    "finally:\n",
    "    solver.log_stats()"
   ]
  },
  {
   "cell_type": "code",
   "execution_count": null,
   "id": "f6faa82b-4509-47e0-9f42-379dd29d3414",
   "metadata": {
    "collapsed": false
   },
   "outputs": [],
   "source": []
  }
 ],
 "metadata": {
  "kernelspec": {
   "argv": [
    "/home/ben/anaconda3/bin/python",
    "-m",
    "ipykernel_launcher",
    "-f",
    "{connection_file}"
   ],
   "display_name": "Python 3 (ipykernel)",
   "env": null,
   "interrupt_mode": "signal",
   "language": "python",
   "metadata": {
    "debugger": true
   },
   "name": "python3"
  },
  "language_info": {
   "codemirror_mode": {
    "name": "ipython",
    "version": 3
   },
   "file_extension": ".py",
   "mimetype": "text/x-python",
   "name": "python",
   "nbconvert_exporter": "python",
   "pygments_lexer": "ipython3",
   "version": "3.11.3"
  },
  "name": "gravitywaves.ipynb"
 },
 "nbformat": 4,
 "nbformat_minor": 5
}
