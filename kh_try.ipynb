{
 "cells": [
  {
   "cell_type": "code",
   "execution_count": 1,
   "id": "f285cd45-e8e9-4814-8147-332debccba87",
   "metadata": {
    "collapsed": false,
    "jupyter": {
     "outputs_hidden": false
    }
   },
   "outputs": [
    {
     "name": "stderr",
     "output_type": "stream",
     "text": [
      "hwloc/linux: Ignoring PCI device with non-16bit domain.\n",
      "Pass --enable-32bits-pci-domain to configure to support such devices\n",
      "(warning: it would break the library ABI, don't enable unless really needed).\n"
     ]
    }
   ],
   "source": [
    "import numpy as np\n",
    "import matplotlib.pyplot as plt\n",
    "import dedalus.public as d3\n",
    "import logging\n",
    "logger = logging.getLogger(__name__)"
   ]
  },
  {
   "cell_type": "code",
   "execution_count": 2,
   "id": "7f52ab77-664f-4348-a26e-b25e75a3224e",
   "metadata": {
    "collapsed": false,
    "jupyter": {
     "outputs_hidden": false
    }
   },
   "outputs": [],
   "source": [
    "Lx, Lz = 1, 2\n",
    "Nx, Nz = 128, 256\n",
    "Reynolds = 5e4\n",
    "Schmidt = 1\n",
    "stop_sim_time = 1\n",
    "timestepper = d3.RK222\n",
    "max_timestep = 1e-2\n",
    "dtype = np.float64\n",
    "dealias = 5"
   ]
  },
  {
   "cell_type": "code",
   "execution_count": 3,
   "id": "75a8740b-3120-498d-be66-3532bdfd74df",
   "metadata": {
    "collapsed": false,
    "jupyter": {
     "outputs_hidden": false
    }
   },
   "outputs": [],
   "source": [
    "coords = d3.CartesianCoordinates('x', 'z')\n",
    "dist = d3.Distributor(coords, dtype=dtype)\n",
    "xbasis = d3.RealFourier(coords['x'], size=Nx, bounds=(0, Lx), dealias=dealias)\n",
    "zbasis = d3.RealFourier(coords['z'], size=Nz, bounds=(-Lz/2, Lz/2), dealias=dealias)\n",
    "\n",
    "# Fields\n",
    "p = dist.Field(name='p', bases=(xbasis,zbasis))\n",
    "s = dist.Field(name='s', bases=(xbasis,zbasis))\n",
    "u = dist.VectorField(coords, name='u', bases=(xbasis,zbasis))\n",
    "tau_p = dist.Field(name='tau_p')"
   ]
  },
  {
   "cell_type": "code",
   "execution_count": 4,
   "id": "dd2332a0-4e45-4bb7-8e9a-f16f6ac4474d",
   "metadata": {
    "collapsed": false,
    "jupyter": {
     "outputs_hidden": false
    }
   },
   "outputs": [
    {
     "data": {
      "text/plain": [
       "{'LHS': Integrate(Integrate(<Field 140685679981712>)),\n",
       " 'RHS': 0,\n",
       " 'condition': 'True',\n",
       " 'tensorsig': (),\n",
       " 'dtype': numpy.float64,\n",
       " 'M': 0,\n",
       " 'L': Integrate(Integrate(<Field 140685679981712>)),\n",
       " 'F': <Field 140685684010768>,\n",
       " 'domain': <dedalus.core.domain.Domain at 0x7ff3efbda710>,\n",
       " 'matrix_dependence': array([ True,  True]),\n",
       " 'matrix_coupling': array([False, False])}"
      ]
     },
     "execution_count": 4,
     "metadata": {},
     "output_type": "execute_result"
    }
   ],
   "source": [
    "# Substitutions\n",
    "nu = 1 / Reynolds\n",
    "D = nu / Schmidt\n",
    "x, z = dist.local_grids(xbasis, zbasis)\n",
    "ex, ez = coords.unit_vector_fields(dist)\n",
    "\n",
    "# Problem\n",
    "problem = d3.IVP([u, s, p, tau_p], namespace=locals())\n",
    "problem.add_equation(\"dt(u) + grad(p) - nu*lap(u) = - u@grad(u)\")\n",
    "problem.add_equation(\"dt(s) - D*lap(s) = - u@grad(s)\")\n",
    "problem.add_equation(\"div(u) + tau_p = 0\")\n",
    "problem.add_equation(\"integ(p) = 0\") # Pressure gauge\n"
   ]
  },
  {
   "cell_type": "code",
   "execution_count": 5,
   "id": "6a92fad9-b597-4970-be83-c3c69e60577b",
   "metadata": {
    "collapsed": false,
    "jupyter": {
     "outputs_hidden": false
    }
   },
   "outputs": [
    {
     "name": "stdout",
     "output_type": "stream",
     "text": [
      "2023-05-25 17:46:01,015 subsystems 0/1 INFO :: Building subproblem matrices 1/64 (~2%) Elapsed: 0s, Remaining: 4s, Rate: 1.8e+01/s\n",
      "2023-05-25 17:46:01,168 subsystems 0/1 INFO :: Building subproblem matrices 7/64 (~11%) Elapsed: 0s, Remaining: 2s, Rate: 3.4e+01/s\n",
      "2023-05-25 17:46:01,351 subsystems 0/1 INFO :: Building subproblem matrices 14/64 (~22%) Elapsed: 0s, Remaining: 1s, Rate: 3.6e+01/s\n",
      "2023-05-25 17:46:01,581 subsystems 0/1 INFO :: Building subproblem matrices 21/64 (~33%) Elapsed: 1s, Remaining: 1s, Rate: 3.4e+01/s\n",
      "2023-05-25 17:46:01,762 subsystems 0/1 INFO :: Building subproblem matrices 28/64 (~44%) Elapsed: 1s, Remaining: 1s, Rate: 3.5e+01/s\n",
      "2023-05-25 17:46:01,991 subsystems 0/1 INFO :: Building subproblem matrices 35/64 (~55%) Elapsed: 1s, Remaining: 1s, Rate: 3.4e+01/s\n",
      "2023-05-25 17:46:02,226 subsystems 0/1 INFO :: Building subproblem matrices 42/64 (~66%) Elapsed: 1s, Remaining: 1s, Rate: 3.3e+01/s\n",
      "2023-05-25 17:46:02,418 subsystems 0/1 INFO :: Building subproblem matrices 49/64 (~77%) Elapsed: 1s, Remaining: 0s, Rate: 3.4e+01/s\n",
      "2023-05-25 17:46:02,599 subsystems 0/1 INFO :: Building subproblem matrices 56/64 (~88%) Elapsed: 2s, Remaining: 0s, Rate: 3.4e+01/s\n",
      "2023-05-25 17:46:02,815 subsystems 0/1 INFO :: Building subproblem matrices 63/64 (~98%) Elapsed: 2s, Remaining: 0s, Rate: 3.4e+01/s\n",
      "2023-05-25 17:46:02,848 subsystems 0/1 INFO :: Building subproblem matrices 64/64 (~100%) Elapsed: 2s, Remaining: 0s, Rate: 3.4e+01/s\n"
     ]
    }
   ],
   "source": [
    "# Solver\n",
    "solver = problem.build_solver(timestepper)\n",
    "solver.stop_sim_time = stop_sim_time\n",
    "\n",
    "# Initial conditions\n",
    "# Background shear\n",
    "u['g'][0] = 1/2 + 1/2 * (np.tanh((z-0.5)/0.1) - np.tanh((z+0.5)/0.1))\n",
    "# Match tracer to shear\n",
    "s['g'] = u['g'][0]\n",
    "# Add small vertical velocity perturbations localized to the shear layers\n",
    "u['g'][1] += 0.1 * np.sin(2*np.pi*x/Lx) * np.exp(-(z-0.5)**2/0.01)\n",
    "u['g'][1] += 0.1 * np.sin(2*np.pi*x/Lx) * np.exp(-(z+0.5)**2/0.01)\n",
    "\n",
    "# Analysis\n",
    "snapshots = solver.evaluator.add_file_handler('snapshots', sim_dt=0.1, max_writes=10)\n",
    "snapshots.add_task(s, name='tracer')\n",
    "snapshots.add_task(p, name='pressure')\n",
    "snapshots.add_task(-d3.div(d3.skew(u)), name='vorticity')\n",
    "snapshots.add_task(u, name=\"velocity\")\n",
    "snapshots.add_task(u, name=\"velocity_c\", layout=\"c\")\n",
    "\n",
    "\n",
    "# CFL\n",
    "CFL = d3.CFL(solver, initial_dt=max_timestep, cadence=10, safety=0.2, threshold=0.1,\n",
    "             max_change=1.5, min_change=0.5, max_dt=max_timestep)\n",
    "CFL.add_velocity(u)\n",
    "\n",
    "# Flow properties\n",
    "flow = d3.GlobalFlowProperty(solver, cadence=10)\n",
    "flow.add_property((u@ez)**2, name='w2')"
   ]
  },
  {
   "cell_type": "code",
   "execution_count": 6,
   "id": "365e1c1c-d25c-4ce2-a03d-9b4342c98d32",
   "metadata": {
    "collapsed": false,
    "jupyter": {
     "outputs_hidden": false
    }
   },
   "outputs": [
    {
     "name": "stdout",
     "output_type": "stream",
     "text": [
      "2023-05-25 17:46:03,042 __main__ 0/1 INFO :: Starting main loop\n",
      "2023-05-25 17:46:05,090 __main__ 0/1 INFO :: Iteration=1, Time=1.000000e-02, dt=1.000000e-02, max(w)=0.100000\n",
      "2023-05-25 17:46:10,343 __main__ 0/1 INFO :: Iteration=11, Time=1.100000e-01, dt=1.000000e-02, max(w)=0.040690\n",
      "2023-05-25 17:46:14,942 __main__ 0/1 INFO :: Iteration=21, Time=1.600000e-01, dt=5.000000e-03, max(w)=0.040906\n",
      "2023-05-25 17:46:19,022 __main__ 0/1 INFO :: Iteration=31, Time=1.905206e-01, dt=3.052063e-03, max(w)=0.041092\n",
      "2023-05-25 17:46:23,495 __main__ 0/1 INFO :: Iteration=41, Time=2.210413e-01, dt=3.052063e-03, max(w)=0.041307\n",
      "2023-05-25 17:46:27,966 __main__ 0/1 INFO :: Iteration=51, Time=2.515619e-01, dt=3.052063e-03, max(w)=0.041561\n",
      "2023-05-25 17:46:33,062 __main__ 0/1 INFO :: Iteration=61, Time=2.820825e-01, dt=3.052063e-03, max(w)=0.041857\n",
      "2023-05-25 17:46:38,423 __main__ 0/1 INFO :: Iteration=71, Time=3.126032e-01, dt=3.052063e-03, max(w)=0.042196\n",
      "2023-05-25 17:46:43,729 __main__ 0/1 INFO :: Iteration=81, Time=3.431238e-01, dt=3.052063e-03, max(w)=0.042574\n",
      "2023-05-25 17:46:47,913 __main__ 0/1 INFO :: Iteration=91, Time=3.736444e-01, dt=3.052063e-03, max(w)=0.042991\n",
      "2023-05-25 17:46:52,580 __main__ 0/1 INFO :: Iteration=101, Time=4.041651e-01, dt=3.052063e-03, max(w)=0.043445\n",
      "2023-05-25 17:46:57,074 __main__ 0/1 INFO :: Iteration=111, Time=4.346857e-01, dt=3.052063e-03, max(w)=0.043941\n",
      "2023-05-25 17:47:01,539 __main__ 0/1 INFO :: Iteration=121, Time=4.652063e-01, dt=3.052063e-03, max(w)=0.044480\n",
      "2023-05-25 17:47:06,042 __main__ 0/1 INFO :: Iteration=131, Time=4.957270e-01, dt=3.052063e-03, max(w)=0.045059\n",
      "2023-05-25 17:47:10,631 __main__ 0/1 INFO :: Iteration=141, Time=5.262476e-01, dt=3.052063e-03, max(w)=0.045678\n",
      "2023-05-25 17:47:15,029 __main__ 0/1 INFO :: Iteration=151, Time=5.567682e-01, dt=3.052063e-03, max(w)=0.046338\n",
      "2023-05-25 17:47:19,528 __main__ 0/1 INFO :: Iteration=161, Time=5.872889e-01, dt=3.052063e-03, max(w)=0.047048\n",
      "2023-05-25 17:47:23,517 __main__ 0/1 INFO :: Iteration=171, Time=6.178095e-01, dt=3.052063e-03, max(w)=0.047805\n",
      "2023-05-25 17:47:28,008 __main__ 0/1 INFO :: Iteration=181, Time=6.483301e-01, dt=3.052063e-03, max(w)=0.048603\n",
      "2023-05-25 17:47:32,481 __main__ 0/1 INFO :: Iteration=191, Time=6.788508e-01, dt=3.052063e-03, max(w)=0.049442\n",
      "2023-05-25 17:47:37,082 __main__ 0/1 INFO :: Iteration=201, Time=7.093714e-01, dt=3.052063e-03, max(w)=0.050327\n",
      "2023-05-25 17:47:41,696 __main__ 0/1 INFO :: Iteration=211, Time=7.398920e-01, dt=3.052063e-03, max(w)=0.051279\n",
      "2023-05-25 17:47:46,289 __main__ 0/1 INFO :: Iteration=221, Time=7.704127e-01, dt=3.052063e-03, max(w)=0.052275\n",
      "2023-05-25 17:47:51,109 __main__ 0/1 INFO :: Iteration=231, Time=8.009333e-01, dt=3.052063e-03, max(w)=0.053318\n",
      "2023-05-25 17:47:55,786 __main__ 0/1 INFO :: Iteration=241, Time=8.314539e-01, dt=3.052063e-03, max(w)=0.054437\n",
      "2023-05-25 17:48:00,529 __main__ 0/1 INFO :: Iteration=251, Time=8.619746e-01, dt=3.052063e-03, max(w)=0.055601\n",
      "2023-05-25 17:48:05,262 __main__ 0/1 INFO :: Iteration=261, Time=8.924952e-01, dt=3.052063e-03, max(w)=0.056815\n",
      "2023-05-25 17:48:09,979 __main__ 0/1 INFO :: Iteration=271, Time=9.230158e-01, dt=3.052063e-03, max(w)=0.058093\n",
      "2023-05-25 17:48:15,224 __main__ 0/1 INFO :: Iteration=281, Time=9.535365e-01, dt=3.052063e-03, max(w)=0.059429\n",
      "2023-05-25 17:48:19,978 __main__ 0/1 INFO :: Iteration=291, Time=9.840571e-01, dt=3.052063e-03, max(w)=0.060821\n",
      "2023-05-25 17:48:22,815 solvers 0/1 INFO :: Simulation stop time reached.\n",
      "2023-05-25 17:48:22,816 solvers 0/1 INFO :: Final iteration: 297\n",
      "2023-05-25 17:48:22,817 solvers 0/1 INFO :: Final sim time: 1.0023694785500092\n",
      "2023-05-25 17:48:22,817 solvers 0/1 INFO :: Setup time (init - iter 0): 3.083 sec\n",
      "2023-05-25 17:48:22,818 solvers 0/1 INFO :: Warmup time (iter 0-10): 5.718 sec\n",
      "2023-05-25 17:48:22,819 solvers 0/1 INFO :: Run time (iter 10-end): 133.1 sec\n",
      "2023-05-25 17:48:22,819 solvers 0/1 INFO :: CPU time (iter 10-end): 0.03696 cpu-hr\n",
      "2023-05-25 17:48:22,820 solvers 0/1 INFO :: Speed: 5.588e+05 mode-stages/cpu-sec\n"
     ]
    }
   ],
   "source": [
    "# Main loop\n",
    "try:\n",
    "    logger.info('Starting main loop')\n",
    "    while solver.proceed:\n",
    "        timestep = CFL.compute_timestep()\n",
    "        solver.step(timestep)\n",
    "        if (solver.iteration-1) % 10 == 0:\n",
    "            max_w = np.sqrt(flow.max('w2'))\n",
    "            logger.info('Iteration=%i, Time=%e, dt=%e, max(w)=%f' %(solver.iteration, solver.sim_time, timestep, max_w))\n",
    "except:\n",
    "    logger.error('Exception raised, triggering end of main loop.')\n",
    "    raise\n",
    "finally:\n",
    "    solver.log_stats()"
   ]
  },
  {
   "cell_type": "code",
   "execution_count": null,
   "id": "f6faa82b-4509-47e0-9f42-379dd29d3414",
   "metadata": {
    "collapsed": false,
    "jupyter": {
     "outputs_hidden": false
    }
   },
   "outputs": [],
   "source": []
  }
 ],
 "metadata": {
  "kernelspec": {
   "display_name": "dedalus",
   "language": "python",
   "name": "dedalus"
  },
  "language_info": {
   "codemirror_mode": {
    "name": "ipython",
    "version": 3
   },
   "file_extension": ".py",
   "mimetype": "text/x-python",
   "name": "python",
   "nbconvert_exporter": "python",
   "pygments_lexer": "ipython3",
   "version": "3.11.3"
  },
  "name": "gravitywaves.ipynb"
 },
 "nbformat": 4,
 "nbformat_minor": 5
}
