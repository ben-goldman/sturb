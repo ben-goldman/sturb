{
 "cells": [
  {
   "cell_type": "code",
   "execution_count": 1,
   "id": "b70cd587-b863-41a4-8d14-0857368b2a7c",
   "metadata": {},
   "outputs": [
    {
     "name": "stderr",
     "output_type": "stream",
     "text": [
      "hwloc/linux: Ignoring PCI device with non-16bit domain.\n",
      "Pass --enable-32bits-pci-domain to configure to support such devices\n",
      "(warning: it would break the library ABI, don't enable unless really needed).\n"
     ]
    }
   ],
   "source": [
    "import numpy as np\n",
    "import matplotlib.pyplot as plt\n",
    "import dedalus.public as d3\n",
    "import logging\n",
    "import pathlib\n",
    "import h5py as h5\n",
    "from dedalus.tools.parallel import Sync\n",
    "logger = logging.getLogger(__name__)"
   ]
  },
  {
   "cell_type": "code",
   "execution_count": 2,
   "id": "ead77d17-0d65-452d-8619-7938f474f6a4",
   "metadata": {},
   "outputs": [],
   "source": [
    "# Parameters\n",
    "Lx, Lz = 4, 1\n",
    "Nx, Nz = 256, 64\n",
    "Rayleigh = 2e6\n",
    "Prandtl = 100\n",
    "dealias = 3/2\n",
    "stop_sim_time = 50\n",
    "timestepper = d3.RK222\n",
    "max_timestep = 0.125\n",
    "dtype = np.float64"
   ]
  },
  {
   "cell_type": "code",
   "execution_count": 3,
   "id": "ded0c5b6-30bb-4823-b1c0-a46d4451f157",
   "metadata": {},
   "outputs": [],
   "source": [
    "# Bases\n",
    "coords = d3.CartesianCoordinates('x', 'z')\n",
    "dist = d3.Distributor(coords, dtype=dtype)\n",
    "xbasis = d3.RealFourier(coords['x'], size=Nx, bounds=(0, Lx), dealias=dealias)\n",
    "zbasis = d3.ChebyshevT(coords['z'], size=Nz, bounds=(0, Lz), dealias=dealias)"
   ]
  },
  {
   "cell_type": "code",
   "execution_count": 4,
   "id": "6708f21d-7585-46e9-bae0-034914e535d9",
   "metadata": {},
   "outputs": [],
   "source": [
    "# Fields\n",
    "p = dist.Field(name='p', bases=(xbasis,zbasis))\n",
    "b = dist.Field(name='b', bases=(xbasis,zbasis))\n",
    "u = dist.VectorField(coords, name='u', bases=(xbasis,zbasis))\n",
    "tau_p = dist.Field(name='tau_p')\n",
    "tau_b1 = dist.Field(name='tau_b1', bases=(xbasis))\n",
    "tau_b2 = dist.Field(name='tau_b2', bases=(xbasis))\n",
    "tau_u1 = dist.VectorField(coords, name='tau_u1', bases=(xbasis))\n",
    "tau_u2 = dist.VectorField(coords, name='tau_u2', bases=(xbasis))"
   ]
  },
  {
   "cell_type": "code",
   "execution_count": 5,
   "id": "9417b85d-3721-4e16-83e2-b7f19ebd0eed",
   "metadata": {},
   "outputs": [],
   "source": [
    "# Substitutions\n",
    "kappa = (Rayleigh * Prandtl)**(-1/2)\n",
    "nu = (Rayleigh / Prandtl)**(-1/2)\n",
    "x, z = dist.local_grids(xbasis, zbasis)\n",
    "ex, ez = coords.unit_vector_fields(dist)\n",
    "lift_basis = zbasis.derivative_basis(1)\n",
    "lift = lambda A: d3.Lift(A, lift_basis, -1)\n",
    "grad_u = d3.grad(u) + ez*lift(tau_u1) # First-order reduction\n",
    "grad_b = d3.grad(b) + ez*lift(tau_b1) # First-order reduction"
   ]
  },
  {
   "cell_type": "code",
   "execution_count": 6,
   "id": "35a898a4-aa4d-4557-83d3-6217dc9e17a4",
   "metadata": {},
   "outputs": [
    {
     "data": {
      "text/plain": [
       "{'LHS': Integrate(Integrate(<Field 140015528681104>)),\n",
       " 'RHS': 0,\n",
       " 'condition': 'True',\n",
       " 'tensorsig': (),\n",
       " 'dtype': numpy.float64,\n",
       " 'M': 0,\n",
       " 'L': Integrate(Integrate(<Field 140015528681104>)),\n",
       " 'F': <Field 140015752788112>,\n",
       " 'domain': <dedalus.core.domain.Domain at 0x7f57e7d9b550>,\n",
       " 'matrix_dependence': array([ True,  True]),\n",
       " 'matrix_coupling': array([False,  True])}"
      ]
     },
     "execution_count": 6,
     "metadata": {},
     "output_type": "execute_result"
    }
   ],
   "source": [
    "# Problem\n",
    "# First-order form: \"div(f)\" becomes \"trace(grad_f)\"\n",
    "# First-order form: \"lap(f)\" becomes \"div(grad_f)\"\n",
    "problem = d3.IVP([p, b, u, tau_p, tau_b1, tau_b2, tau_u1, tau_u2], namespace=locals())\n",
    "problem.add_equation(\"trace(grad_u) + tau_p = 0\")\n",
    "problem.add_equation(\"dt(b) - kappa*div(grad_b) + lift(tau_b2) = - u@grad(b)\")\n",
    "problem.add_equation(\"dt(u) - nu*div(grad_u) + grad(p) - b*ez + lift(tau_u2) = - u@grad(u)\")\n",
    "problem.add_equation(\"b(z=0) = 0\")\n",
    "problem.add_equation(\"u(z=0) = 0\")\n",
    "problem.add_equation(\"b(z=Lz) = 0\")\n",
    "problem.add_equation(\"u(z=Lz) = 0\")\n",
    "problem.add_equation(\"integ(p) = 0\") # Pressure gauge"
   ]
  },
  {
   "cell_type": "code",
   "execution_count": 7,
   "id": "1cf311b6-ff4d-465a-9f3f-d726a6327904",
   "metadata": {},
   "outputs": [
    {
     "name": "stdout",
     "output_type": "stream",
     "text": [
      "2023-05-25 15:32:22,714 subsystems 0/1 INFO :: Building subproblem matrices 1/128 (~1%) Elapsed: 0s, Remaining: 14s, Rate: 8.8e+00/s\n",
      "2023-05-25 15:32:23,382 subsystems 0/1 INFO :: Building subproblem matrices 13/128 (~10%) Elapsed: 1s, Remaining: 7s, Rate: 1.7e+01/s\n",
      "2023-05-25 15:32:24,198 subsystems 0/1 INFO :: Building subproblem matrices 26/128 (~20%) Elapsed: 2s, Remaining: 6s, Rate: 1.6e+01/s\n",
      "2023-05-25 15:32:25,060 subsystems 0/1 INFO :: Building subproblem matrices 39/128 (~30%) Elapsed: 2s, Remaining: 6s, Rate: 1.6e+01/s\n",
      "2023-05-25 15:32:26,028 subsystems 0/1 INFO :: Building subproblem matrices 52/128 (~41%) Elapsed: 3s, Remaining: 5s, Rate: 1.5e+01/s\n",
      "2023-05-25 15:32:26,838 subsystems 0/1 INFO :: Building subproblem matrices 65/128 (~51%) Elapsed: 4s, Remaining: 4s, Rate: 1.5e+01/s\n",
      "2023-05-25 15:32:27,590 subsystems 0/1 INFO :: Building subproblem matrices 78/128 (~61%) Elapsed: 5s, Remaining: 3s, Rate: 1.6e+01/s\n"
     ]
    },
    {
     "ename": "KeyboardInterrupt",
     "evalue": "",
     "output_type": "error",
     "traceback": [
      "\u001b[0;31m---------------------------------------------------------------------------\u001b[0m",
      "\u001b[0;31mKeyboardInterrupt\u001b[0m                         Traceback (most recent call last)",
      "Cell \u001b[0;32mIn[7], line 2\u001b[0m\n\u001b[1;32m      1\u001b[0m \u001b[38;5;66;03m# Solver\u001b[39;00m\n\u001b[0;32m----> 2\u001b[0m solver \u001b[38;5;241m=\u001b[39m problem\u001b[38;5;241m.\u001b[39mbuild_solver(timestepper)\n\u001b[1;32m      3\u001b[0m solver\u001b[38;5;241m.\u001b[39mstop_sim_time \u001b[38;5;241m=\u001b[39m stop_sim_time\n",
      "File \u001b[0;32m~/anaconda3/envs/dedalus3/lib/python3.11/site-packages/dedalus/core/problems.py:95\u001b[0m, in \u001b[0;36mProblemBase.build_solver\u001b[0;34m(self, *args, **kw)\u001b[0m\n\u001b[1;32m     93\u001b[0m \u001b[38;5;28;01mdef\u001b[39;00m \u001b[38;5;21mbuild_solver\u001b[39m(\u001b[38;5;28mself\u001b[39m, \u001b[38;5;241m*\u001b[39margs, \u001b[38;5;241m*\u001b[39m\u001b[38;5;241m*\u001b[39mkw):\n\u001b[1;32m     94\u001b[0m \u001b[38;5;250m    \u001b[39m\u001b[38;5;124;03m\"\"\"Build corresponding solver class.\"\"\"\u001b[39;00m\n\u001b[0;32m---> 95\u001b[0m     \u001b[38;5;28;01mreturn\u001b[39;00m \u001b[38;5;28mself\u001b[39m\u001b[38;5;241m.\u001b[39msolver_class(\u001b[38;5;28mself\u001b[39m, \u001b[38;5;241m*\u001b[39margs, \u001b[38;5;241m*\u001b[39m\u001b[38;5;241m*\u001b[39mkw)\n",
      "File \u001b[0;32m~/anaconda3/envs/dedalus3/lib/python3.11/site-packages/dedalus/core/solvers.py:520\u001b[0m, in \u001b[0;36mInitialValueSolver.__init__\u001b[0;34m(self, problem, timestepper, enforce_real_cadence, warmup_iterations, **kw)\u001b[0m\n\u001b[1;32m    518\u001b[0m \u001b[38;5;28mself\u001b[39m\u001b[38;5;241m.\u001b[39minit_time \u001b[38;5;241m=\u001b[39m \u001b[38;5;28mself\u001b[39m\u001b[38;5;241m.\u001b[39mworld_time\n\u001b[1;32m    519\u001b[0m \u001b[38;5;66;03m# Build LHS matrices\u001b[39;00m\n\u001b[0;32m--> 520\u001b[0m subsystems\u001b[38;5;241m.\u001b[39mbuild_subproblem_matrices(\u001b[38;5;28mself\u001b[39m, \u001b[38;5;28mself\u001b[39m\u001b[38;5;241m.\u001b[39msubproblems, [\u001b[38;5;124m'\u001b[39m\u001b[38;5;124mM\u001b[39m\u001b[38;5;124m'\u001b[39m, \u001b[38;5;124m'\u001b[39m\u001b[38;5;124mL\u001b[39m\u001b[38;5;124m'\u001b[39m])\n\u001b[1;32m    521\u001b[0m \u001b[38;5;66;03m# Compute total modes\u001b[39;00m\n\u001b[1;32m    522\u001b[0m local_modes \u001b[38;5;241m=\u001b[39m \u001b[38;5;28msum\u001b[39m(ss\u001b[38;5;241m.\u001b[39msubproblem\u001b[38;5;241m.\u001b[39mpre_right\u001b[38;5;241m.\u001b[39mshape[\u001b[38;5;241m1\u001b[39m] \u001b[38;5;28;01mfor\u001b[39;00m ss \u001b[38;5;129;01min\u001b[39;00m \u001b[38;5;28mself\u001b[39m\u001b[38;5;241m.\u001b[39msubsystems)\n",
      "File \u001b[0;32m~/anaconda3/envs/dedalus3/lib/python3.11/site-packages/dedalus/core/subsystems.py:80\u001b[0m, in \u001b[0;36mbuild_subproblem_matrices\u001b[0;34m(solver, subproblems, matrices)\u001b[0m\n\u001b[1;32m     78\u001b[0m \u001b[38;5;66;03m# Build matrices\u001b[39;00m\n\u001b[1;32m     79\u001b[0m \u001b[38;5;28;01mfor\u001b[39;00m subproblem \u001b[38;5;129;01min\u001b[39;00m log_progress(subproblems, logger, \u001b[38;5;124m'\u001b[39m\u001b[38;5;124minfo\u001b[39m\u001b[38;5;124m'\u001b[39m, desc\u001b[38;5;241m=\u001b[39m\u001b[38;5;124m'\u001b[39m\u001b[38;5;124mBuilding subproblem matrices\u001b[39m\u001b[38;5;124m'\u001b[39m, \u001b[38;5;28miter\u001b[39m\u001b[38;5;241m=\u001b[39mnp\u001b[38;5;241m.\u001b[39minf, frac\u001b[38;5;241m=\u001b[39m\u001b[38;5;241m0.1\u001b[39m, dt\u001b[38;5;241m=\u001b[39m\u001b[38;5;241m10\u001b[39m):\n\u001b[0;32m---> 80\u001b[0m      subproblem\u001b[38;5;241m.\u001b[39mbuild_matrices(matrices)\n",
      "File \u001b[0;32m~/anaconda3/envs/dedalus3/lib/python3.11/site-packages/dedalus/core/subsystems.py:457\u001b[0m, in \u001b[0;36mSubproblem.build_matrices\u001b[0;34m(self, names)\u001b[0m\n\u001b[1;32m    454\u001b[0m \u001b[38;5;28;01mfor\u001b[39;00m eqn, eqn_size, eqn_cond \u001b[38;5;129;01min\u001b[39;00m \u001b[38;5;28mzip\u001b[39m(eqns, eqn_sizes, eqn_conditions):\n\u001b[1;32m    455\u001b[0m     \u001b[38;5;28;01mif\u001b[39;00m eqn_size \u001b[38;5;129;01mand\u001b[39;00m eqn_cond \u001b[38;5;129;01mand\u001b[39;00m (eqn[name] \u001b[38;5;241m!=\u001b[39m \u001b[38;5;241m0\u001b[39m):\n\u001b[1;32m    456\u001b[0m         \u001b[38;5;66;03m# Build matrix and append data\u001b[39;00m\n\u001b[0;32m--> 457\u001b[0m         eqn_blocks \u001b[38;5;241m=\u001b[39m eqn[name]\u001b[38;5;241m.\u001b[39mexpression_matrices(subproblem\u001b[38;5;241m=\u001b[39m\u001b[38;5;28mself\u001b[39m, \u001b[38;5;28mvars\u001b[39m\u001b[38;5;241m=\u001b[39m\u001b[38;5;28mvars\u001b[39m, ncc_cutoff\u001b[38;5;241m=\u001b[39msolver\u001b[38;5;241m.\u001b[39mncc_cutoff, max_ncc_terms\u001b[38;5;241m=\u001b[39msolver\u001b[38;5;241m.\u001b[39mmax_ncc_terms)\n\u001b[1;32m    458\u001b[0m         j0 \u001b[38;5;241m=\u001b[39m \u001b[38;5;241m0\u001b[39m\n\u001b[1;32m    459\u001b[0m         \u001b[38;5;28;01mfor\u001b[39;00m var, var_size \u001b[38;5;129;01min\u001b[39;00m \u001b[38;5;28mzip\u001b[39m(\u001b[38;5;28mvars\u001b[39m, var_sizes):\n",
      "File \u001b[0;32m~/anaconda3/envs/dedalus3/lib/python3.11/site-packages/dedalus/core/arithmetic.py:188\u001b[0m, in \u001b[0;36mAdd.expression_matrices\u001b[0;34m(self, subproblem, vars, **kw)\u001b[0m\n\u001b[1;32m    186\u001b[0m \u001b[38;5;66;03m# Iteratively add argument expression matrices\u001b[39;00m\n\u001b[1;32m    187\u001b[0m \u001b[38;5;28;01mfor\u001b[39;00m arg \u001b[38;5;129;01min\u001b[39;00m \u001b[38;5;28mself\u001b[39m\u001b[38;5;241m.\u001b[39margs:\n\u001b[0;32m--> 188\u001b[0m     arg_matrices \u001b[38;5;241m=\u001b[39m arg\u001b[38;5;241m.\u001b[39mexpression_matrices(subproblem, \u001b[38;5;28mvars\u001b[39m, \u001b[38;5;241m*\u001b[39m\u001b[38;5;241m*\u001b[39mkw)\n\u001b[1;32m    189\u001b[0m     \u001b[38;5;28;01mfor\u001b[39;00m var \u001b[38;5;129;01min\u001b[39;00m arg_matrices:\n\u001b[1;32m    190\u001b[0m         matrices[var] \u001b[38;5;241m=\u001b[39m matrices\u001b[38;5;241m.\u001b[39mget(var, \u001b[38;5;241m0\u001b[39m) \u001b[38;5;241m+\u001b[39m arg_matrices[var]\n",
      "File \u001b[0;32m~/anaconda3/envs/dedalus3/lib/python3.11/site-packages/dedalus/core/arithmetic.py:974\u001b[0m, in \u001b[0;36mMultiplyNumberField.expression_matrices\u001b[0;34m(self, subproblem, vars, **kw)\u001b[0m\n\u001b[1;32m    972\u001b[0m arg0, arg1 \u001b[38;5;241m=\u001b[39m \u001b[38;5;28mself\u001b[39m\u001b[38;5;241m.\u001b[39margs\n\u001b[1;32m    973\u001b[0m \u001b[38;5;66;03m# Build field matrices\u001b[39;00m\n\u001b[0;32m--> 974\u001b[0m arg1_mats \u001b[38;5;241m=\u001b[39m arg1\u001b[38;5;241m.\u001b[39mexpression_matrices(subproblem, \u001b[38;5;28mvars\u001b[39m, \u001b[38;5;241m*\u001b[39m\u001b[38;5;241m*\u001b[39mkw)\n\u001b[1;32m    975\u001b[0m \u001b[38;5;66;03m# Multiply field matrices\u001b[39;00m\n\u001b[1;32m    976\u001b[0m \u001b[38;5;28;01mreturn\u001b[39;00m {var: arg0 \u001b[38;5;241m*\u001b[39m arg1_mats[var] \u001b[38;5;28;01mfor\u001b[39;00m var \u001b[38;5;129;01min\u001b[39;00m arg1_mats}\n",
      "File \u001b[0;32m~/anaconda3/envs/dedalus3/lib/python3.11/site-packages/dedalus/core/arithmetic.py:974\u001b[0m, in \u001b[0;36mMultiplyNumberField.expression_matrices\u001b[0;34m(self, subproblem, vars, **kw)\u001b[0m\n\u001b[1;32m    972\u001b[0m arg0, arg1 \u001b[38;5;241m=\u001b[39m \u001b[38;5;28mself\u001b[39m\u001b[38;5;241m.\u001b[39margs\n\u001b[1;32m    973\u001b[0m \u001b[38;5;66;03m# Build field matrices\u001b[39;00m\n\u001b[0;32m--> 974\u001b[0m arg1_mats \u001b[38;5;241m=\u001b[39m arg1\u001b[38;5;241m.\u001b[39mexpression_matrices(subproblem, \u001b[38;5;28mvars\u001b[39m, \u001b[38;5;241m*\u001b[39m\u001b[38;5;241m*\u001b[39mkw)\n\u001b[1;32m    975\u001b[0m \u001b[38;5;66;03m# Multiply field matrices\u001b[39;00m\n\u001b[1;32m    976\u001b[0m \u001b[38;5;28;01mreturn\u001b[39;00m {var: arg0 \u001b[38;5;241m*\u001b[39m arg1_mats[var] \u001b[38;5;28;01mfor\u001b[39;00m var \u001b[38;5;129;01min\u001b[39;00m arg1_mats}\n",
      "File \u001b[0;32m~/anaconda3/envs/dedalus3/lib/python3.11/site-packages/dedalus/core/operators.py:752\u001b[0m, in \u001b[0;36mLinearOperator.expression_matrices\u001b[0;34m(self, subproblem, vars, **kw)\u001b[0m\n\u001b[1;32m    750\u001b[0m     \u001b[38;5;28;01mreturn\u001b[39;00m {var: sparse\u001b[38;5;241m.\u001b[39mcsr_matrix((size, subproblem\u001b[38;5;241m.\u001b[39mfield_size(var))) \u001b[38;5;28;01mfor\u001b[39;00m var \u001b[38;5;129;01min\u001b[39;00m \u001b[38;5;28mvars\u001b[39m}\n\u001b[1;32m    751\u001b[0m \u001b[38;5;66;03m# Build operand matrices\u001b[39;00m\n\u001b[0;32m--> 752\u001b[0m operand_mats \u001b[38;5;241m=\u001b[39m \u001b[38;5;28mself\u001b[39m\u001b[38;5;241m.\u001b[39moperand\u001b[38;5;241m.\u001b[39mexpression_matrices(subproblem, \u001b[38;5;28mvars\u001b[39m, \u001b[38;5;241m*\u001b[39m\u001b[38;5;241m*\u001b[39mkw)\n\u001b[1;32m    753\u001b[0m \u001b[38;5;66;03m# Apply operator matrix\u001b[39;00m\n\u001b[1;32m    754\u001b[0m operator_mat \u001b[38;5;241m=\u001b[39m \u001b[38;5;28mself\u001b[39m\u001b[38;5;241m.\u001b[39msubproblem_matrix(subproblem)\n",
      "File \u001b[0;32m~/anaconda3/envs/dedalus3/lib/python3.11/site-packages/dedalus/core/arithmetic.py:188\u001b[0m, in \u001b[0;36mAdd.expression_matrices\u001b[0;34m(self, subproblem, vars, **kw)\u001b[0m\n\u001b[1;32m    186\u001b[0m \u001b[38;5;66;03m# Iteratively add argument expression matrices\u001b[39;00m\n\u001b[1;32m    187\u001b[0m \u001b[38;5;28;01mfor\u001b[39;00m arg \u001b[38;5;129;01min\u001b[39;00m \u001b[38;5;28mself\u001b[39m\u001b[38;5;241m.\u001b[39margs:\n\u001b[0;32m--> 188\u001b[0m     arg_matrices \u001b[38;5;241m=\u001b[39m arg\u001b[38;5;241m.\u001b[39mexpression_matrices(subproblem, \u001b[38;5;28mvars\u001b[39m, \u001b[38;5;241m*\u001b[39m\u001b[38;5;241m*\u001b[39mkw)\n\u001b[1;32m    189\u001b[0m     \u001b[38;5;28;01mfor\u001b[39;00m var \u001b[38;5;129;01min\u001b[39;00m arg_matrices:\n\u001b[1;32m    190\u001b[0m         matrices[var] \u001b[38;5;241m=\u001b[39m matrices\u001b[38;5;241m.\u001b[39mget(var, \u001b[38;5;241m0\u001b[39m) \u001b[38;5;241m+\u001b[39m arg_matrices[var]\n",
      "File \u001b[0;32m~/anaconda3/envs/dedalus3/lib/python3.11/site-packages/dedalus/core/operators.py:754\u001b[0m, in \u001b[0;36mLinearOperator.expression_matrices\u001b[0;34m(self, subproblem, vars, **kw)\u001b[0m\n\u001b[1;32m    752\u001b[0m operand_mats \u001b[38;5;241m=\u001b[39m \u001b[38;5;28mself\u001b[39m\u001b[38;5;241m.\u001b[39moperand\u001b[38;5;241m.\u001b[39mexpression_matrices(subproblem, \u001b[38;5;28mvars\u001b[39m, \u001b[38;5;241m*\u001b[39m\u001b[38;5;241m*\u001b[39mkw)\n\u001b[1;32m    753\u001b[0m \u001b[38;5;66;03m# Apply operator matrix\u001b[39;00m\n\u001b[0;32m--> 754\u001b[0m operator_mat \u001b[38;5;241m=\u001b[39m \u001b[38;5;28mself\u001b[39m\u001b[38;5;241m.\u001b[39msubproblem_matrix(subproblem)\n\u001b[1;32m    755\u001b[0m out \u001b[38;5;241m=\u001b[39m {var: operator_mat \u001b[38;5;241m@\u001b[39m operand_mats[var] \u001b[38;5;28;01mfor\u001b[39;00m var \u001b[38;5;129;01min\u001b[39;00m operand_mats}\n\u001b[1;32m    756\u001b[0m \u001b[38;5;28;01mreturn\u001b[39;00m out\n",
      "File \u001b[0;32m~/anaconda3/envs/dedalus3/lib/python3.11/site-packages/dedalus/core/operators.py:2328\u001b[0m, in \u001b[0;36mCartesianGradient.subproblem_matrix\u001b[0;34m(self, subproblem)\u001b[0m\n\u001b[1;32m   2326\u001b[0m \u001b[38;5;28;01mdef\u001b[39;00m \u001b[38;5;21msubproblem_matrix\u001b[39m(\u001b[38;5;28mself\u001b[39m, subproblem):\n\u001b[1;32m   2327\u001b[0m \u001b[38;5;250m    \u001b[39m\u001b[38;5;124;03m\"\"\"Build operator matrix for a specific subproblem.\"\"\"\u001b[39;00m\n\u001b[0;32m-> 2328\u001b[0m     \u001b[38;5;28;01mreturn\u001b[39;00m sparse\u001b[38;5;241m.\u001b[39mvstack(arg\u001b[38;5;241m.\u001b[39mexpression_matrices(subproblem, [\u001b[38;5;28mself\u001b[39m\u001b[38;5;241m.\u001b[39moperand])[\u001b[38;5;28mself\u001b[39m\u001b[38;5;241m.\u001b[39moperand] \u001b[38;5;28;01mfor\u001b[39;00m arg \u001b[38;5;129;01min\u001b[39;00m \u001b[38;5;28mself\u001b[39m\u001b[38;5;241m.\u001b[39margs)\n",
      "File \u001b[0;32m~/anaconda3/envs/dedalus3/lib/python3.11/site-packages/scipy/sparse/_construct.py:569\u001b[0m, in \u001b[0;36mvstack\u001b[0;34m(blocks, format, dtype)\u001b[0m\n\u001b[1;32m    538\u001b[0m \u001b[38;5;28;01mdef\u001b[39;00m \u001b[38;5;21mvstack\u001b[39m(blocks, \u001b[38;5;28mformat\u001b[39m\u001b[38;5;241m=\u001b[39m\u001b[38;5;28;01mNone\u001b[39;00m, dtype\u001b[38;5;241m=\u001b[39m\u001b[38;5;28;01mNone\u001b[39;00m):\n\u001b[1;32m    539\u001b[0m \u001b[38;5;250m    \u001b[39m\u001b[38;5;124;03m\"\"\"\u001b[39;00m\n\u001b[1;32m    540\u001b[0m \u001b[38;5;124;03m    Stack sparse matrices vertically (row wise)\u001b[39;00m\n\u001b[1;32m    541\u001b[0m \n\u001b[0;32m   (...)\u001b[0m\n\u001b[1;32m    567\u001b[0m \n\u001b[1;32m    568\u001b[0m \u001b[38;5;124;03m    \"\"\"\u001b[39;00m\n\u001b[0;32m--> 569\u001b[0m     \u001b[38;5;28;01mreturn\u001b[39;00m bmat([[b] \u001b[38;5;28;01mfor\u001b[39;00m b \u001b[38;5;129;01min\u001b[39;00m blocks], \u001b[38;5;28mformat\u001b[39m\u001b[38;5;241m=\u001b[39m\u001b[38;5;28mformat\u001b[39m, dtype\u001b[38;5;241m=\u001b[39mdtype)\n",
      "File \u001b[0;32m~/anaconda3/envs/dedalus3/lib/python3.11/site-packages/scipy/sparse/_construct.py:569\u001b[0m, in \u001b[0;36m<listcomp>\u001b[0;34m(.0)\u001b[0m\n\u001b[1;32m    538\u001b[0m \u001b[38;5;28;01mdef\u001b[39;00m \u001b[38;5;21mvstack\u001b[39m(blocks, \u001b[38;5;28mformat\u001b[39m\u001b[38;5;241m=\u001b[39m\u001b[38;5;28;01mNone\u001b[39;00m, dtype\u001b[38;5;241m=\u001b[39m\u001b[38;5;28;01mNone\u001b[39;00m):\n\u001b[1;32m    539\u001b[0m \u001b[38;5;250m    \u001b[39m\u001b[38;5;124;03m\"\"\"\u001b[39;00m\n\u001b[1;32m    540\u001b[0m \u001b[38;5;124;03m    Stack sparse matrices vertically (row wise)\u001b[39;00m\n\u001b[1;32m    541\u001b[0m \n\u001b[0;32m   (...)\u001b[0m\n\u001b[1;32m    567\u001b[0m \n\u001b[1;32m    568\u001b[0m \u001b[38;5;124;03m    \"\"\"\u001b[39;00m\n\u001b[0;32m--> 569\u001b[0m     \u001b[38;5;28;01mreturn\u001b[39;00m bmat([[b] \u001b[38;5;28;01mfor\u001b[39;00m b \u001b[38;5;129;01min\u001b[39;00m blocks], \u001b[38;5;28mformat\u001b[39m\u001b[38;5;241m=\u001b[39m\u001b[38;5;28mformat\u001b[39m, dtype\u001b[38;5;241m=\u001b[39mdtype)\n",
      "File \u001b[0;32m~/anaconda3/envs/dedalus3/lib/python3.11/site-packages/dedalus/core/operators.py:2328\u001b[0m, in \u001b[0;36m<genexpr>\u001b[0;34m(.0)\u001b[0m\n\u001b[1;32m   2326\u001b[0m \u001b[38;5;28;01mdef\u001b[39;00m \u001b[38;5;21msubproblem_matrix\u001b[39m(\u001b[38;5;28mself\u001b[39m, subproblem):\n\u001b[1;32m   2327\u001b[0m \u001b[38;5;250m    \u001b[39m\u001b[38;5;124;03m\"\"\"Build operator matrix for a specific subproblem.\"\"\"\u001b[39;00m\n\u001b[0;32m-> 2328\u001b[0m     \u001b[38;5;28;01mreturn\u001b[39;00m sparse\u001b[38;5;241m.\u001b[39mvstack(arg\u001b[38;5;241m.\u001b[39mexpression_matrices(subproblem, [\u001b[38;5;28mself\u001b[39m\u001b[38;5;241m.\u001b[39moperand])[\u001b[38;5;28mself\u001b[39m\u001b[38;5;241m.\u001b[39moperand] \u001b[38;5;28;01mfor\u001b[39;00m arg \u001b[38;5;129;01min\u001b[39;00m \u001b[38;5;28mself\u001b[39m\u001b[38;5;241m.\u001b[39margs)\n",
      "File \u001b[0;32m~/anaconda3/envs/dedalus3/lib/python3.11/site-packages/dedalus/core/operators.py:752\u001b[0m, in \u001b[0;36mLinearOperator.expression_matrices\u001b[0;34m(self, subproblem, vars, **kw)\u001b[0m\n\u001b[1;32m    750\u001b[0m     \u001b[38;5;28;01mreturn\u001b[39;00m {var: sparse\u001b[38;5;241m.\u001b[39mcsr_matrix((size, subproblem\u001b[38;5;241m.\u001b[39mfield_size(var))) \u001b[38;5;28;01mfor\u001b[39;00m var \u001b[38;5;129;01min\u001b[39;00m \u001b[38;5;28mvars\u001b[39m}\n\u001b[1;32m    751\u001b[0m \u001b[38;5;66;03m# Build operand matrices\u001b[39;00m\n\u001b[0;32m--> 752\u001b[0m operand_mats \u001b[38;5;241m=\u001b[39m \u001b[38;5;28mself\u001b[39m\u001b[38;5;241m.\u001b[39moperand\u001b[38;5;241m.\u001b[39mexpression_matrices(subproblem, \u001b[38;5;28mvars\u001b[39m, \u001b[38;5;241m*\u001b[39m\u001b[38;5;241m*\u001b[39mkw)\n\u001b[1;32m    753\u001b[0m \u001b[38;5;66;03m# Apply operator matrix\u001b[39;00m\n\u001b[1;32m    754\u001b[0m operator_mat \u001b[38;5;241m=\u001b[39m \u001b[38;5;28mself\u001b[39m\u001b[38;5;241m.\u001b[39msubproblem_matrix(subproblem)\n",
      "File \u001b[0;32m~/anaconda3/envs/dedalus3/lib/python3.11/site-packages/dedalus/core/operators.py:754\u001b[0m, in \u001b[0;36mLinearOperator.expression_matrices\u001b[0;34m(self, subproblem, vars, **kw)\u001b[0m\n\u001b[1;32m    752\u001b[0m operand_mats \u001b[38;5;241m=\u001b[39m \u001b[38;5;28mself\u001b[39m\u001b[38;5;241m.\u001b[39moperand\u001b[38;5;241m.\u001b[39mexpression_matrices(subproblem, \u001b[38;5;28mvars\u001b[39m, \u001b[38;5;241m*\u001b[39m\u001b[38;5;241m*\u001b[39mkw)\n\u001b[1;32m    753\u001b[0m \u001b[38;5;66;03m# Apply operator matrix\u001b[39;00m\n\u001b[0;32m--> 754\u001b[0m operator_mat \u001b[38;5;241m=\u001b[39m \u001b[38;5;28mself\u001b[39m\u001b[38;5;241m.\u001b[39msubproblem_matrix(subproblem)\n\u001b[1;32m    755\u001b[0m out \u001b[38;5;241m=\u001b[39m {var: operator_mat \u001b[38;5;241m@\u001b[39m operand_mats[var] \u001b[38;5;28;01mfor\u001b[39;00m var \u001b[38;5;129;01min\u001b[39;00m operand_mats}\n\u001b[1;32m    756\u001b[0m \u001b[38;5;28;01mreturn\u001b[39;00m out\n",
      "File \u001b[0;32m~/anaconda3/envs/dedalus3/lib/python3.11/site-packages/dedalus/core/operators.py:922\u001b[0m, in \u001b[0;36mSpectralOperator1D.subproblem_matrix\u001b[0;34m(self, subproblem)\u001b[0m\n\u001b[1;32m    920\u001b[0m     matrix \u001b[38;5;241m=\u001b[39m sparse\u001b[38;5;241m.\u001b[39mkron(matrix, I_after)\n\u001b[1;32m    921\u001b[0m \u001b[38;5;66;03m# Convert to CSR (might be numpy array)\u001b[39;00m\n\u001b[0;32m--> 922\u001b[0m \u001b[38;5;28;01mreturn\u001b[39;00m sparse\u001b[38;5;241m.\u001b[39mcsr_matrix(matrix)\n",
      "File \u001b[0;32m~/anaconda3/envs/dedalus3/lib/python3.11/site-packages/scipy/sparse/_compressed.py:33\u001b[0m, in \u001b[0;36m_cs_matrix.__init__\u001b[0;34m(self, arg1, shape, dtype, copy)\u001b[0m\n\u001b[1;32m     31\u001b[0m         arg1 \u001b[38;5;241m=\u001b[39m arg1\u001b[38;5;241m.\u001b[39mcopy()\n\u001b[1;32m     32\u001b[0m     \u001b[38;5;28;01melse\u001b[39;00m:\n\u001b[0;32m---> 33\u001b[0m         arg1 \u001b[38;5;241m=\u001b[39m arg1\u001b[38;5;241m.\u001b[39masformat(\u001b[38;5;28mself\u001b[39m\u001b[38;5;241m.\u001b[39mformat)\n\u001b[1;32m     34\u001b[0m     \u001b[38;5;28mself\u001b[39m\u001b[38;5;241m.\u001b[39m_set_self(arg1)\n\u001b[1;32m     36\u001b[0m \u001b[38;5;28;01melif\u001b[39;00m \u001b[38;5;28misinstance\u001b[39m(arg1, \u001b[38;5;28mtuple\u001b[39m):\n",
      "File \u001b[0;32m~/anaconda3/envs/dedalus3/lib/python3.11/site-packages/scipy/sparse/_base.py:376\u001b[0m, in \u001b[0;36mspmatrix.asformat\u001b[0;34m(self, format, copy)\u001b[0m\n\u001b[1;32m    374\u001b[0m \u001b[38;5;66;03m# Forward the copy kwarg, if it's accepted.\u001b[39;00m\n\u001b[1;32m    375\u001b[0m \u001b[38;5;28;01mtry\u001b[39;00m:\n\u001b[0;32m--> 376\u001b[0m     \u001b[38;5;28;01mreturn\u001b[39;00m convert_method(copy\u001b[38;5;241m=\u001b[39mcopy)\n\u001b[1;32m    377\u001b[0m \u001b[38;5;28;01mexcept\u001b[39;00m \u001b[38;5;167;01mTypeError\u001b[39;00m:\n\u001b[1;32m    378\u001b[0m     \u001b[38;5;28;01mreturn\u001b[39;00m convert_method()\n",
      "File \u001b[0;32m~/anaconda3/envs/dedalus3/lib/python3.11/site-packages/scipy/sparse/_coo.py:410\u001b[0m, in \u001b[0;36mcoo_matrix.tocsr\u001b[0;34m(self, copy)\u001b[0m\n\u001b[1;32m    408\u001b[0m x \u001b[38;5;241m=\u001b[39m \u001b[38;5;28mself\u001b[39m\u001b[38;5;241m.\u001b[39m_csr_container((data, indices, indptr), shape\u001b[38;5;241m=\u001b[39m\u001b[38;5;28mself\u001b[39m\u001b[38;5;241m.\u001b[39mshape)\n\u001b[1;32m    409\u001b[0m \u001b[38;5;28;01mif\u001b[39;00m \u001b[38;5;129;01mnot\u001b[39;00m \u001b[38;5;28mself\u001b[39m\u001b[38;5;241m.\u001b[39mhas_canonical_format:\n\u001b[0;32m--> 410\u001b[0m     x\u001b[38;5;241m.\u001b[39msum_duplicates()\n\u001b[1;32m    411\u001b[0m \u001b[38;5;28;01mreturn\u001b[39;00m x\n",
      "File \u001b[0;32m~/anaconda3/envs/dedalus3/lib/python3.11/site-packages/scipy/sparse/_compressed.py:1116\u001b[0m, in \u001b[0;36m_cs_matrix.sum_duplicates\u001b[0;34m(self)\u001b[0m\n\u001b[1;32m   1111\u001b[0m \u001b[38;5;28;01mdef\u001b[39;00m \u001b[38;5;21msum_duplicates\u001b[39m(\u001b[38;5;28mself\u001b[39m):\n\u001b[1;32m   1112\u001b[0m \u001b[38;5;250m    \u001b[39m\u001b[38;5;124;03m\"\"\"Eliminate duplicate matrix entries by adding them together\u001b[39;00m\n\u001b[1;32m   1113\u001b[0m \n\u001b[1;32m   1114\u001b[0m \u001b[38;5;124;03m    This is an *in place* operation.\u001b[39;00m\n\u001b[1;32m   1115\u001b[0m \u001b[38;5;124;03m    \"\"\"\u001b[39;00m\n\u001b[0;32m-> 1116\u001b[0m     \u001b[38;5;28;01mif\u001b[39;00m \u001b[38;5;28mself\u001b[39m\u001b[38;5;241m.\u001b[39mhas_canonical_format:\n\u001b[1;32m   1117\u001b[0m         \u001b[38;5;28;01mreturn\u001b[39;00m\n\u001b[1;32m   1118\u001b[0m     \u001b[38;5;28mself\u001b[39m\u001b[38;5;241m.\u001b[39msort_indices()\n",
      "File \u001b[0;32m~/anaconda3/envs/dedalus3/lib/python3.11/site-packages/scipy/sparse/_compressed.py:1099\u001b[0m, in \u001b[0;36m_cs_matrix.__get_has_canonical_format\u001b[0;34m(self)\u001b[0m\n\u001b[1;32m   1096\u001b[0m     \u001b[38;5;28mself\u001b[39m\u001b[38;5;241m.\u001b[39m_has_canonical_format \u001b[38;5;241m=\u001b[39m \u001b[38;5;28;01mFalse\u001b[39;00m\n\u001b[1;32m   1097\u001b[0m \u001b[38;5;28;01melif\u001b[39;00m \u001b[38;5;129;01mnot\u001b[39;00m \u001b[38;5;28mhasattr\u001b[39m(\u001b[38;5;28mself\u001b[39m, \u001b[38;5;124m'\u001b[39m\u001b[38;5;124m_has_canonical_format\u001b[39m\u001b[38;5;124m'\u001b[39m):\n\u001b[1;32m   1098\u001b[0m     \u001b[38;5;28mself\u001b[39m\u001b[38;5;241m.\u001b[39mhas_canonical_format \u001b[38;5;241m=\u001b[39m \u001b[38;5;28mbool\u001b[39m(\n\u001b[0;32m-> 1099\u001b[0m         _sparsetools\u001b[38;5;241m.\u001b[39mcsr_has_canonical_format(\n\u001b[1;32m   1100\u001b[0m             \u001b[38;5;28mlen\u001b[39m(\u001b[38;5;28mself\u001b[39m\u001b[38;5;241m.\u001b[39mindptr) \u001b[38;5;241m-\u001b[39m \u001b[38;5;241m1\u001b[39m, \u001b[38;5;28mself\u001b[39m\u001b[38;5;241m.\u001b[39mindptr, \u001b[38;5;28mself\u001b[39m\u001b[38;5;241m.\u001b[39mindices))\n\u001b[1;32m   1101\u001b[0m \u001b[38;5;28;01mreturn\u001b[39;00m \u001b[38;5;28mself\u001b[39m\u001b[38;5;241m.\u001b[39m_has_canonical_format\n",
      "\u001b[0;31mKeyboardInterrupt\u001b[0m: "
     ]
    }
   ],
   "source": [
    "# Solver\n",
    "solver = problem.build_solver(timestepper)\n",
    "solver.stop_sim_time = stop_sim_time"
   ]
  },
  {
   "cell_type": "code",
   "execution_count": null,
   "id": "102873a9-409a-4356-8554-66d2187f0aaf",
   "metadata": {},
   "outputs": [],
   "source": [
    "# Initial conditions\n",
    "b.fill_random('g', seed=42, distribution='normal', scale=1e-2) # Random noise\n",
    "b['g'] *= z * (Lz - z) # Damp noise at walls\n",
    "# b['g'] += Lz - z # Add linear background"
   ]
  },
  {
   "cell_type": "code",
   "execution_count": null,
   "id": "485e6791-66b3-402d-aed8-5c3da367207d",
   "metadata": {},
   "outputs": [],
   "source": [
    "# Analysis\n",
    "snapshots = solver.evaluator.add_file_handler('snapshots', sim_dt=0.25, max_writes=50)\n",
    "snapshots.add_task(b, name='buoyancy')\n",
    "snapshots.add_task(-d3.div(d3.skew(u)), name='vorticity')"
   ]
  },
  {
   "cell_type": "code",
   "execution_count": null,
   "id": "16718c24-05d3-449b-86c0-4289b250465b",
   "metadata": {},
   "outputs": [],
   "source": [
    "# CFL\n",
    "CFL = d3.CFL(solver, initial_dt=max_timestep, cadence=10, safety=0.5, threshold=0.05,\n",
    "             max_change=1.5, min_change=0.5, max_dt=max_timestep)\n",
    "CFL.add_velocity(u)"
   ]
  },
  {
   "cell_type": "code",
   "execution_count": null,
   "id": "e736cce5-f059-49f8-a6c6-d50dcf35bf60",
   "metadata": {},
   "outputs": [],
   "source": [
    "# Flow properties\n",
    "flow = d3.GlobalFlowProperty(solver, cadence=10)\n",
    "flow.add_property(np.sqrt(u@u)/nu, name='Re')"
   ]
  },
  {
   "cell_type": "code",
   "execution_count": null,
   "id": "a7584258-354a-46db-abf4-8f40063e3c16",
   "metadata": {},
   "outputs": [],
   "source": [
    "# Main loop\n",
    "startup_iter = 10\n",
    "try:\n",
    "    logger.info('Starting main loop')\n",
    "    while solver.proceed:\n",
    "        timestep = CFL.compute_timestep()\n",
    "        solver.step(timestep)\n",
    "        if (solver.iteration-1) % 10 == 0:\n",
    "            max_Re = flow.max('Re')\n",
    "            logger.info('Iteration=%i, Time=%e, dt=%e, max(Re)=%f' %(solver.iteration, solver.sim_time, timestep, max_Re))\n",
    "except:\n",
    "    logger.error('Exception raised, triggering end of main loop.')\n",
    "    raise\n",
    "finally:\n",
    "    solver.log_stats()"
   ]
  }
 ],
 "metadata": {
  "kernelspec": {
   "display_name": "dedalus",
   "language": "python",
   "name": "dedalus"
  },
  "language_info": {
   "codemirror_mode": {
    "name": "ipython",
    "version": 3
   },
   "file_extension": ".py",
   "mimetype": "text/x-python",
   "name": "python",
   "nbconvert_exporter": "python",
   "pygments_lexer": "ipython3",
   "version": "3.11.3"
  }
 },
 "nbformat": 4,
 "nbformat_minor": 5
}
